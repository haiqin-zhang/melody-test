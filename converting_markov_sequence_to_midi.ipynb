{
  "nbformat": 4,
  "nbformat_minor": 0,
  "metadata": {
    "colab": {
      "provenance": [],
      "collapsed_sections": [],
      "authorship_tag": "ABX9TyMr2FEj+VKq317Pyn1pnS3p",
      "include_colab_link": true
    },
    "kernelspec": {
      "name": "python3",
      "display_name": "Python 3"
    },
    "language_info": {
      "name": "python"
    }
  },
  "cells": [
    {
      "cell_type": "markdown",
      "metadata": {
        "id": "view-in-github",
        "colab_type": "text"
      },
      "source": [
        "<a href=\"https://colab.research.google.com/github/haiqin-zhang/melody-test/blob/main/converting_markov_sequence_to_midi.ipynb\" target=\"_parent\"><img src=\"https://colab.research.google.com/assets/colab-badge.svg\" alt=\"Open In Colab\"/></a>"
      ]
    },
    {
      "cell_type": "code",
      "execution_count": null,
      "metadata": {
        "id": "UMVF-TmVNjYg"
      },
      "outputs": [],
      "source": [
        "from music21 import *\n",
        "import pickle"
      ]
    },
    {
      "cell_type": "markdown",
      "source": [
        "Testing out some functions of music21 for creating notes, melodies, streams, converting to midi, etc"
      ],
      "metadata": {
        "id": "py2RlYGtiiCu"
      }
    },
    {
      "cell_type": "code",
      "source": [
        "#how to create a note\n",
        "note1 = note.Note(\"C1\")\n",
        "notelist = [note1]\n",
        "print(notelist)"
      ],
      "metadata": {
        "colab": {
          "base_uri": "https://localhost:8080/"
        },
        "id": "kLfWdaovXs9F",
        "outputId": "fc261af0-119a-44f8-da33-03bcf13c0662"
      },
      "execution_count": null,
      "outputs": [
        {
          "output_type": "stream",
          "name": "stdout",
          "text": [
            "[<music21.note.Note C>]\n"
          ]
        }
      ]
    },
    {
      "cell_type": "code",
      "source": [
        "#convert a list of notes (supposedly generated from a markov chain) to a list of note objects\n",
        "imported_list = ['A4', 'B4', 'C#4']\n",
        "\n",
        "notelist = []\n",
        "for i in imported_list:\n",
        "  newnote = note.Note(i)\n",
        "  notelist.append(newnote)\n",
        "\n",
        "notelist"
      ],
      "metadata": {
        "colab": {
          "base_uri": "https://localhost:8080/"
        },
        "id": "rIUFNQq0aUIj",
        "outputId": "5e211127-a423-430f-92d5-68e86a4b71ac"
      },
      "execution_count": null,
      "outputs": [
        {
          "output_type": "execute_result",
          "data": {
            "text/plain": [
              "[<music21.note.Note A>, <music21.note.Note B>, <music21.note.Note C#>]"
            ]
          },
          "metadata": {},
          "execution_count": 28
        }
      ]
    },
    {
      "cell_type": "code",
      "source": [
        "#making a stream (the object that can then be converted to midi)\n",
        "imported_list = ['A4', 'B4', 'C#4']\n",
        "\n",
        "stream1 = stream.Stream()\n",
        "for i in imported_list:\n",
        "  newnote = note.Note(i)\n",
        "  stream1.append(newnote)\n",
        "\n",
        "stream1.show('text')"
      ],
      "metadata": {
        "colab": {
          "base_uri": "https://localhost:8080/"
        },
        "id": "y8ON4sA-dM6e",
        "outputId": "387f776d-1048-449a-f5fd-22a4ee76a2be"
      },
      "execution_count": null,
      "outputs": [
        {
          "output_type": "stream",
          "name": "stdout",
          "text": [
            "{0.0} <music21.note.Note A>\n",
            "{1.0} <music21.note.Note B>\n",
            "{2.0} <music21.note.Note C#>\n"
          ]
        }
      ]
    },
    {
      "cell_type": "markdown",
      "source": [
        "This code allows a sequence generated from the markov chain (which is saved as a list for later analysis) to be converted into a midi file"
      ],
      "metadata": {
        "id": "zIHwLYEVio0j"
      }
    },
    {
      "cell_type": "code",
      "source": [
        "#same thing as above but using pickle to import and convert to stream\n",
        "\n",
        "melody1 = open(\"melody1.pkl\", \"rb\")\n",
        "melody1 = pickle.load(melody1)\n",
        "\n",
        "stream2 = stream.Stream()\n",
        "\"\"\"\n",
        "note4 = note.Note(melody1[0])\n",
        "stream2.append(note4)\n",
        "\"\"\"\n",
        "for i in melody1: \n",
        "  newnote = note.Note(i)\n",
        "  stream2.append(newnote)\n",
        "\n",
        "stream2.show('text')\n",
        "print(melody1) #shows that the stream is the same as the melody list"
      ],
      "metadata": {
        "id": "j-3AahZJpwl5",
        "colab": {
          "base_uri": "https://localhost:8080/"
        },
        "outputId": "6ec02c70-57ac-478f-b4a6-16709fb79ac4"
      },
      "execution_count": null,
      "outputs": [
        {
          "output_type": "stream",
          "name": "stdout",
          "text": [
            "{0.0} <music21.note.Note A>\n",
            "{1.0} <music21.note.Note B>\n",
            "{2.0} <music21.note.Note C>\n",
            "{3.0} <music21.note.Note B>\n",
            "{4.0} <music21.note.Note B>\n",
            "{5.0} <music21.note.Note C>\n",
            "{6.0} <music21.note.Note B>\n",
            "{7.0} <music21.note.Note A>\n",
            "{8.0} <music21.note.Note B>\n",
            "{9.0} <music21.note.Note C>\n",
            "['A4', 'B4', 'C4', 'B4', 'B4', 'C4', 'B4', 'A4', 'B4', 'C4']\n"
          ]
        }
      ]
    },
    {
      "cell_type": "code",
      "source": [
        "#converting stream to midi\n",
        "stream2.write(\"midi\", \"stream2.mid\")"
      ],
      "metadata": {
        "colab": {
          "base_uri": "https://localhost:8080/",
          "height": 35
        },
        "id": "t9yHSzPveqgd",
        "outputId": "3fda9e05-63b0-4828-88a1-1c80d1a99a47"
      },
      "execution_count": null,
      "outputs": [
        {
          "output_type": "execute_result",
          "data": {
            "text/plain": [
              "'stream2.mid'"
            ],
            "application/vnd.google.colaboratory.intrinsic+json": {
              "type": "string"
            }
          },
          "metadata": {},
          "execution_count": 53
        }
      ]
    },
    {
      "cell_type": "markdown",
      "source": [
        "Same as above: converting a pre-made sequence of notes into midi files, but now processing a bunch of melodies at once..."
      ],
      "metadata": {
        "id": "UnJFEoqAzWxz"
      }
    },
    {
      "cell_type": "code",
      "source": [
        "for i in range(1,11):\n",
        "  file = open('melody'+str(i)+\".pkl\", 'rb')\n",
        "  melody1 = pickle.load(file)\n",
        "\n",
        "  stream_current = stream.Stream()\n",
        "\n",
        "  for j in melody1: \n",
        "    newnote = note.Note(j)\n",
        "    stream_current.append(newnote)\n",
        "\n",
        "    stream_current.write(\"midi\", \"stream\"+str(i)+\".mid\")\n"
      ],
      "metadata": {
        "id": "uG4Tkdq_Fgcz"
      },
      "execution_count": null,
      "outputs": []
    },
    {
      "cell_type": "code",
      "source": [
        "#piece of code to play with later for changing the volume of notes\n",
        "note = note.Note(midi = 56, duration = duration.Duration(0.5), volume = volume.Volume(0.5))"
      ],
      "metadata": {
        "id": "oGzIAWswGuog"
      },
      "execution_count": null,
      "outputs": []
    },
    {
      "cell_type": "markdown",
      "source": [
        "Test melodies with longer duration on all the As (because they should occur less frequently in this grammar)\n"
      ],
      "metadata": {
        "id": "ocREayHjiSn4"
      }
    },
    {
      "cell_type": "code",
      "source": [
        "#generates 'correct' and 'incorrect' files for each melody. \n",
        "#A file is 'correct' if it has a longer duration on the less frequently-occurring notes (in this case, A)\n",
        "\n",
        "#generates the first ('correct') melody\n",
        "file = open('melody1.pkl', 'rb')\n",
        "test_melody = pickle.load(file)\n",
        "\n",
        "stream_correct = stream.Stream()\n",
        "\n",
        "for i in test_melody: \n",
        "  if i == 'A4':\n",
        "    newnote = note.Note(i, duration = duration.Duration(2))\n",
        "    stream_correct.append(newnote)\n",
        "  else:\n",
        "    newnote = note.Note(i, duration = duration.Duration(1))\n",
        "    stream_correct.append(newnote)\n",
        "\n",
        "stream_correct.write('midi', 'test_correct1.mid')\n",
        "\n",
        "#generates the second ('incorrect') melody\n",
        "\n",
        "stream_incorrect = stream.Stream()\n",
        "\n",
        "already_used = False\n",
        "for i in test_melody: \n",
        "  if i == 'B4' and already_used == False : #will have to randomize the off-target notes better\n",
        "    newnote = note.Note(i, duration = duration.Duration(2))\n",
        "    stream_incorrect.append(newnote)\n",
        "    already_used = True\n",
        "  else:\n",
        "    newnote = note.Note(i, duration = duration.Duration(1))\n",
        "    stream_incorrect.append(newnote)\n",
        "\n",
        "r = note.Rest(duration = duration.Duration(4))\n",
        "stream_correct.append(r)\n",
        "stream_correct.append(stream_incorrect)\n",
        "stream_correct.write('midi', 'test_correct1.mid')"
      ],
      "metadata": {
        "id": "-cI89jyIJRFX",
        "colab": {
          "base_uri": "https://localhost:8080/",
          "height": 35
        },
        "outputId": "71297fd2-d1b5-4c66-f05e-dd3e72d4c0ae"
      },
      "execution_count": null,
      "outputs": [
        {
          "output_type": "execute_result",
          "data": {
            "text/plain": [
              "'test_correct1.mid'"
            ],
            "application/vnd.google.colaboratory.intrinsic+json": {
              "type": "string"
            }
          },
          "metadata": {},
          "execution_count": 13
        }
      ]
    },
    {
      "cell_type": "markdown",
      "source": [
        "Making a set of test melodies (each is a pair of melodies with identical notes with one note being longer than the others)"
      ],
      "metadata": {
        "id": "moqRWIoM8nL3"
      }
    },
    {
      "cell_type": "code",
      "source": [
        "#generates 'correct' and 'incorrect' files for each melody. \n",
        "#A file is 'correct' if it has a longer duration on the less frequently-occurring notes (in this case, A)\n",
        "\n",
        "for number in range(1,6):\n",
        "#generates the first ('correct') melody\n",
        "  file = open('melody'+str(number)+'.pkl', 'rb')\n",
        "  test_melody = pickle.load(file)\n",
        "\n",
        "  stream_correct = stream.Stream()\n",
        "\n",
        "  for i in test_melody: \n",
        "    if i == 'A4':\n",
        "      newnote = note.Note(i, duration = duration.Duration(2))\n",
        "      stream_correct.append(newnote)\n",
        "    else:\n",
        "      newnote = note.Note(i, duration = duration.Duration(1))\n",
        "      stream_correct.append(newnote)\n",
        "\n",
        "  stream_correct.write('midi', 'test_correct1.mid')\n",
        "\n",
        "  #generates the second ('incorrect') melody\n",
        "\n",
        "  stream_incorrect = stream.Stream()\n",
        "\n",
        "  already_used = False\n",
        "  for i in test_melody: \n",
        "    if i == 'B4' and already_used == False : #will have to randomize the off-target notes better\n",
        "      newnote = note.Note(i, duration = duration.Duration(2))\n",
        "      stream_incorrect.append(newnote)\n",
        "      already_used = True\n",
        "    else:\n",
        "      newnote = note.Note(i, duration = duration.Duration(1))\n",
        "      stream_incorrect.append(newnote)\n",
        "\n",
        "  r = note.Rest(duration = duration.Duration(4))\n",
        "  stream_correct.append(r)\n",
        "  stream_correct.append(stream_incorrect)\n",
        "  stream_correct.write('midi', 'test_correct'+str(number)+'.mid')"
      ],
      "metadata": {
        "id": "OQj63Sqs8lfp"
      },
      "execution_count": null,
      "outputs": []
    },
    {
      "cell_type": "code",
      "source": [
        "#same as above but generates a test set where the first melody is incorrect and the second is correct\n",
        "for number in range(6,11):\n",
        "\n",
        "#generates the first ('incorrect') melody\n",
        "  file = open('melody'+str(number)+'.pkl', 'rb')\n",
        "  test_melody = pickle.load(file)\n",
        "\n",
        "  stream_incorrect = stream.Stream()\n",
        "  already_used = False\n",
        "  for i in test_melody: \n",
        "    if i == 'B4' and already_used == False:\n",
        "      newnote = note.Note(i, duration = duration.Duration(2)) #not sure if ALL As should be longer\n",
        "      stream_incorrect.append(newnote)\n",
        "     # already_used = True \n",
        "    else:\n",
        "      newnote = note.Note(i, duration = duration.Duration(1))\n",
        "      stream_incorrect.append(newnote)\n",
        "\n",
        "  stream_incorrect.write('midi', 'test_correct1.mid')\n",
        "\n",
        "  #generates the second ('correct') melody\n",
        "\n",
        "  stream_correct = stream.Stream()\n",
        "\n",
        "  already_used = False\n",
        "  for i in test_melody: \n",
        "    if i =='A4':\n",
        "      newnote = note.Note(i, duration = duration.Duration(2))\n",
        "      stream_correct.append(newnote)\n",
        "    else:\n",
        "      newnote = note.Note(i, duration = duration.Duration(1))\n",
        "      stream_correct.append(newnote)\n",
        "\n",
        "  r = note.Rest(duration = duration.Duration(4))\n",
        "  stream_incorrect.append(r)\n",
        "  stream_incorrect.append(stream_correct)\n",
        "  stream_incorrect.write('midi', 'test_incorrect'+str(number)+'.mid')"
      ],
      "metadata": {
        "id": "9qm7ZFUcjRDa"
      },
      "execution_count": null,
      "outputs": []
    }
  ]
}