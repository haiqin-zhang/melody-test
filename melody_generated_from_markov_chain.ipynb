{
  "nbformat": 4,
  "nbformat_minor": 0,
  "metadata": {
    "colab": {
      "provenance": [],
      "collapsed_sections": [],
      "authorship_tag": "ABX9TyPA4f2JoOwtBomNBNAwvxjJ",
      "include_colab_link": true
    },
    "kernelspec": {
      "name": "python3",
      "display_name": "Python 3"
    },
    "language_info": {
      "name": "python"
    }
  },
  "cells": [
    {
      "cell_type": "markdown",
      "metadata": {
        "id": "view-in-github",
        "colab_type": "text"
      },
      "source": [
        "<a href=\"https://colab.research.google.com/github/haiqin-zhang/melody-test/blob/main/melody_generated_from_markov_chain.ipynb\" target=\"_parent\"><img src=\"https://colab.research.google.com/assets/colab-badge.svg\" alt=\"Open In Colab\"/></a>"
      ]
    },
    {
      "cell_type": "markdown",
      "source": [
        "### Part 1: basics of generating Markov sequences similar to finite state grammars. "
      ],
      "metadata": {
        "id": "u2ZHLEFmNmEd"
      }
    },
    {
      "cell_type": "code",
      "execution_count": null,
      "metadata": {
        "id": "n4U4K2Bq94rs"
      },
      "outputs": [],
      "source": [
        "import numpy as np\n",
        "import pandas as pd\n",
        "import pickle"
      ]
    },
    {
      "cell_type": "markdown",
      "source": [
        "Generating the probability matrix. Each item in the dictionary is the new state (ie the destination), and each item in the list is the likelihood of getting to that state from another state (item 1 is how likely it is to get to the destination from state 1, and so on).\n",
        "\n",
        "To interpret the matrix: the beginning of each row is the starting point, and the columns are the probabilities of getting to the next point). All rows in the panda matrix should add up to 0."
      ],
      "metadata": {
        "id": "0M6aBjguNuBQ"
      }
    },
    {
      "cell_type": "code",
      "source": [
        "matrix = {\n",
        "    'A4': [0,.25,.2], #probability of getting to a from starting points a, b, and c respectively\n",
        "    'B4': [1, .25,.4],\n",
        "    'C5': [0, .5, .4]\n",
        "}\n",
        "\n",
        "matrix = pd.DataFrame(matrix, index = matrix.keys())\n",
        "matrix\n",
        "\n"
      ],
      "metadata": {
        "colab": {
          "base_uri": "https://localhost:8080/",
          "height": 143
        },
        "id": "STWhg7n5-Uyt",
        "outputId": "7e2dacca-9746-4228-922d-ceac462bb980"
      },
      "execution_count": null,
      "outputs": [
        {
          "output_type": "execute_result",
          "data": {
            "text/plain": [
              "      A4    B4   C5\n",
              "A4  0.00  1.00  0.0\n",
              "B4  0.25  0.25  0.5\n",
              "C5  0.20  0.40  0.4"
            ],
            "text/html": [
              "\n",
              "  <div id=\"df-ad79a1f5-cd5f-47bb-9a4e-5f85fcc923c3\">\n",
              "    <div class=\"colab-df-container\">\n",
              "      <div>\n",
              "<style scoped>\n",
              "    .dataframe tbody tr th:only-of-type {\n",
              "        vertical-align: middle;\n",
              "    }\n",
              "\n",
              "    .dataframe tbody tr th {\n",
              "        vertical-align: top;\n",
              "    }\n",
              "\n",
              "    .dataframe thead th {\n",
              "        text-align: right;\n",
              "    }\n",
              "</style>\n",
              "<table border=\"1\" class=\"dataframe\">\n",
              "  <thead>\n",
              "    <tr style=\"text-align: right;\">\n",
              "      <th></th>\n",
              "      <th>A4</th>\n",
              "      <th>B4</th>\n",
              "      <th>C5</th>\n",
              "    </tr>\n",
              "  </thead>\n",
              "  <tbody>\n",
              "    <tr>\n",
              "      <th>A4</th>\n",
              "      <td>0.00</td>\n",
              "      <td>1.00</td>\n",
              "      <td>0.0</td>\n",
              "    </tr>\n",
              "    <tr>\n",
              "      <th>B4</th>\n",
              "      <td>0.25</td>\n",
              "      <td>0.25</td>\n",
              "      <td>0.5</td>\n",
              "    </tr>\n",
              "    <tr>\n",
              "      <th>C5</th>\n",
              "      <td>0.20</td>\n",
              "      <td>0.40</td>\n",
              "      <td>0.4</td>\n",
              "    </tr>\n",
              "  </tbody>\n",
              "</table>\n",
              "</div>\n",
              "      <button class=\"colab-df-convert\" onclick=\"convertToInteractive('df-ad79a1f5-cd5f-47bb-9a4e-5f85fcc923c3')\"\n",
              "              title=\"Convert this dataframe to an interactive table.\"\n",
              "              style=\"display:none;\">\n",
              "        \n",
              "  <svg xmlns=\"http://www.w3.org/2000/svg\" height=\"24px\"viewBox=\"0 0 24 24\"\n",
              "       width=\"24px\">\n",
              "    <path d=\"M0 0h24v24H0V0z\" fill=\"none\"/>\n",
              "    <path d=\"M18.56 5.44l.94 2.06.94-2.06 2.06-.94-2.06-.94-.94-2.06-.94 2.06-2.06.94zm-11 1L8.5 8.5l.94-2.06 2.06-.94-2.06-.94L8.5 2.5l-.94 2.06-2.06.94zm10 10l.94 2.06.94-2.06 2.06-.94-2.06-.94-.94-2.06-.94 2.06-2.06.94z\"/><path d=\"M17.41 7.96l-1.37-1.37c-.4-.4-.92-.59-1.43-.59-.52 0-1.04.2-1.43.59L10.3 9.45l-7.72 7.72c-.78.78-.78 2.05 0 2.83L4 21.41c.39.39.9.59 1.41.59.51 0 1.02-.2 1.41-.59l7.78-7.78 2.81-2.81c.8-.78.8-2.07 0-2.86zM5.41 20L4 18.59l7.72-7.72 1.47 1.35L5.41 20z\"/>\n",
              "  </svg>\n",
              "      </button>\n",
              "      \n",
              "  <style>\n",
              "    .colab-df-container {\n",
              "      display:flex;\n",
              "      flex-wrap:wrap;\n",
              "      gap: 12px;\n",
              "    }\n",
              "\n",
              "    .colab-df-convert {\n",
              "      background-color: #E8F0FE;\n",
              "      border: none;\n",
              "      border-radius: 50%;\n",
              "      cursor: pointer;\n",
              "      display: none;\n",
              "      fill: #1967D2;\n",
              "      height: 32px;\n",
              "      padding: 0 0 0 0;\n",
              "      width: 32px;\n",
              "    }\n",
              "\n",
              "    .colab-df-convert:hover {\n",
              "      background-color: #E2EBFA;\n",
              "      box-shadow: 0px 1px 2px rgba(60, 64, 67, 0.3), 0px 1px 3px 1px rgba(60, 64, 67, 0.15);\n",
              "      fill: #174EA6;\n",
              "    }\n",
              "\n",
              "    [theme=dark] .colab-df-convert {\n",
              "      background-color: #3B4455;\n",
              "      fill: #D2E3FC;\n",
              "    }\n",
              "\n",
              "    [theme=dark] .colab-df-convert:hover {\n",
              "      background-color: #434B5C;\n",
              "      box-shadow: 0px 1px 3px 1px rgba(0, 0, 0, 0.15);\n",
              "      filter: drop-shadow(0px 1px 2px rgba(0, 0, 0, 0.3));\n",
              "      fill: #FFFFFF;\n",
              "    }\n",
              "  </style>\n",
              "\n",
              "      <script>\n",
              "        const buttonEl =\n",
              "          document.querySelector('#df-ad79a1f5-cd5f-47bb-9a4e-5f85fcc923c3 button.colab-df-convert');\n",
              "        buttonEl.style.display =\n",
              "          google.colab.kernel.accessAllowed ? 'block' : 'none';\n",
              "\n",
              "        async function convertToInteractive(key) {\n",
              "          const element = document.querySelector('#df-ad79a1f5-cd5f-47bb-9a4e-5f85fcc923c3');\n",
              "          const dataTable =\n",
              "            await google.colab.kernel.invokeFunction('convertToInteractive',\n",
              "                                                     [key], {});\n",
              "          if (!dataTable) return;\n",
              "\n",
              "          const docLinkHtml = 'Like what you see? Visit the ' +\n",
              "            '<a target=\"_blank\" href=https://colab.research.google.com/notebooks/data_table.ipynb>data table notebook</a>'\n",
              "            + ' to learn more about interactive tables.';\n",
              "          element.innerHTML = '';\n",
              "          dataTable['output_type'] = 'display_data';\n",
              "          await google.colab.output.renderOutput(dataTable, element);\n",
              "          const docLink = document.createElement('div');\n",
              "          docLink.innerHTML = docLinkHtml;\n",
              "          element.appendChild(docLink);\n",
              "        }\n",
              "      </script>\n",
              "    </div>\n",
              "  </div>\n",
              "  "
            ]
          },
          "metadata": {},
          "execution_count": 4
        }
      ]
    },
    {
      "cell_type": "code",
      "source": [
        "#randomly selecting from matrix keys assuming uniform distribution across all possible states\n",
        "\n",
        "matrix.keys() #the array of possible states\n",
        "\n",
        "key_selection = []\n",
        "\n",
        "while len(key_selection)<10:\n",
        "  key_selection.append(np.random.choice(matrix.keys()))\n",
        "\n",
        "print(key_selection)\n",
        "key_selection.count('A4')"
      ],
      "metadata": {
        "colab": {
          "base_uri": "https://localhost:8080/"
        },
        "id": "Jf96UNIbBnEI",
        "outputId": "3d1e4eac-e5d9-484b-ca2f-e33d31a45ad9"
      },
      "execution_count": null,
      "outputs": [
        {
          "output_type": "stream",
          "name": "stdout",
          "text": [
            "['C5', 'C5', 'A4', 'B4', 'B4', 'A4', 'B4', 'B4', 'A4', 'C5']\n"
          ]
        },
        {
          "output_type": "execute_result",
          "data": {
            "text/plain": [
              "3"
            ]
          },
          "metadata": {},
          "execution_count": 3
        }
      ]
    },
    {
      "cell_type": "markdown",
      "source": [
        "Side note to look at how to generate a starting state and to make sure that the probabilities from each state are correct"
      ],
      "metadata": {
        "id": "jPeRLlUAnFcR"
      }
    },
    {
      "cell_type": "code",
      "source": [
        "#define the starting state by randomly choosing a starting note\n",
        "#n.b.: may want to have a set starting and ending note in the future\n",
        "results = []\n",
        "results.append(np.random.choice(matrix.index))\n",
        "results"
      ],
      "metadata": {
        "colab": {
          "base_uri": "https://localhost:8080/"
        },
        "id": "ZUtuUQt1Amao",
        "outputId": "dab7dc6d-1e56-4b39-d1c9-d21809b1372d"
      },
      "execution_count": null,
      "outputs": [
        {
          "output_type": "execute_result",
          "data": {
            "text/plain": [
              "['C5']"
            ]
          },
          "metadata": {},
          "execution_count": 4
        }
      ]
    },
    {
      "cell_type": "code",
      "source": [
        "#find the latest note and get the associated probabilities from the next note\n",
        "\n",
        "\"\"\"\n",
        "#current_state = results[-1] #this should be the most recent city (current state)\n",
        "#matrix.loc['a'] #this gets the probabilities of places you could go when you start at 'a'\n",
        "\"\"\"\n",
        "\n",
        "matrix.loc[results[-1]]"
      ],
      "metadata": {
        "id": "kw9RwITWH5VV",
        "outputId": "d1567a1b-a07b-4294-ca36-f8f2d48f0986",
        "colab": {
          "base_uri": "https://localhost:8080/"
        }
      },
      "execution_count": null,
      "outputs": [
        {
          "output_type": "execute_result",
          "data": {
            "text/plain": [
              "A4    0.2\n",
              "B4    0.4\n",
              "C4    0.4\n",
              "Name: C4, dtype: float64"
            ]
          },
          "metadata": {},
          "execution_count": 21
        }
      ]
    },
    {
      "cell_type": "markdown",
      "source": [
        "Now, to actually generate a melody from this artificial grammar:"
      ],
      "metadata": {
        "id": "OYg5_UV9oGcp"
      }
    },
    {
      "cell_type": "code",
      "source": [
        "#define the starting state\n",
        "results = []\n",
        "results.append(np.random.choice(matrix.index))\n",
        "\n",
        "#appending new notes to the starting state until max number of notes reached\n",
        "while len(results)<10:\n",
        "  new_state = np.random.choice(matrix.index, p = matrix.loc[results[-1]])\n",
        "  results.append(new_state)\n",
        "  \n",
        "\n",
        "results"
      ],
      "metadata": {
        "id": "mh0gfUFYHzWx",
        "colab": {
          "base_uri": "https://localhost:8080/"
        },
        "outputId": "14e970f2-5738-4dd6-c871-d82516cb1705"
      },
      "execution_count": null,
      "outputs": [
        {
          "output_type": "execute_result",
          "data": {
            "text/plain": [
              "['C5', 'C5', 'B4', 'C5', 'B4', 'C5', 'A4', 'B4', 'C5', 'B4']"
            ]
          },
          "metadata": {},
          "execution_count": 5
        }
      ]
    },
    {
      "cell_type": "code",
      "source": [
        "#storing melody as a list to be used later\n",
        "\n",
        "\n",
        "file_name = \"melody1.pkl\"\n",
        "open_file =open(file_name, \"wb\")\n",
        "pickle.dump(results, open_file)\n",
        "open_file.close()"
      ],
      "metadata": {
        "id": "PB5nLFmQjdal"
      },
      "execution_count": null,
      "outputs": []
    },
    {
      "cell_type": "markdown",
      "source": [
        "To generate a bunch of melodies at once:"
      ],
      "metadata": {
        "id": "V2L8JlouuhaU"
      }
    },
    {
      "cell_type": "code",
      "source": [
        "melody_list = []\n",
        "\n",
        "while len(melody_list)<10:\n",
        "  #define the starting state\n",
        "  results = []\n",
        "  results.append(np.random.choice(matrix.index))\n",
        "\n",
        "  #appending new notes to the starting state until max number of notes reached\n",
        "  while len(results)<10:\n",
        "    new_state = np.random.choice(matrix.index, p = matrix.loc[results[-1]])\n",
        "    results.append(new_state)\n",
        "  \n",
        "  melody_list.append(results)\n",
        "  file_name = \"melody\"+str(len(melody_list))+\".pkl\"\n",
        "  open_file =open(file_name, \"wb\")\n",
        "  pickle.dump(results, open_file)\n",
        "  open_file.close()\n",
        "\n",
        "melody_list = np.array(melody_list)\n",
        "#melody_list\n",
        "\n",
        "print(melody_list.shape)\n",
        "\n",
        "file_name = \"melody_list.pkl\"\n",
        "open_file =open(file_name, \"wb\")\n",
        "pickle.dump(results, open_file)\n",
        "open_file.close()\n",
        "\n",
        "print(melody_list)\n",
        "\n"
      ],
      "metadata": {
        "id": "XJVlNhf-ug65",
        "outputId": "dc5de76b-faad-4b07-f8cf-2bbb694cf534",
        "colab": {
          "base_uri": "https://localhost:8080/"
        }
      },
      "execution_count": null,
      "outputs": [
        {
          "output_type": "stream",
          "name": "stdout",
          "text": [
            "(10, 10)\n",
            "[['B4' 'C5' 'C5' 'B4' 'B4' 'A4' 'B4' 'C5' 'B4' 'B4']\n",
            " ['B4' 'B4' 'C5' 'B4' 'A4' 'B4' 'B4' 'C5' 'C5' 'B4']\n",
            " ['A4' 'B4' 'A4' 'B4' 'B4' 'C5' 'A4' 'B4' 'B4' 'C5']\n",
            " ['C5' 'B4' 'A4' 'B4' 'C5' 'C5' 'C5' 'B4' 'C5' 'C5']\n",
            " ['B4' 'C5' 'C5' 'B4' 'C5' 'B4' 'C5' 'C5' 'A4' 'B4']\n",
            " ['B4' 'B4' 'C5' 'C5' 'C5' 'A4' 'B4' 'C5' 'A4' 'B4']\n",
            " ['A4' 'B4' 'C5' 'B4' 'B4' 'A4' 'B4' 'A4' 'B4' 'C5']\n",
            " ['C5' 'B4' 'C5' 'B4' 'C5' 'A4' 'B4' 'C5' 'A4' 'B4']\n",
            " ['C5' 'B4' 'C5' 'B4' 'C5' 'C5' 'B4' 'A4' 'B4' 'B4']\n",
            " ['C5' 'C5' 'C5' 'B4' 'C5' 'B4' 'A4' 'B4' 'B4' 'B4']]\n"
          ]
        }
      ]
    },
    {
      "cell_type": "code",
      "source": [
        "file = open(\"melody1.pkl\", \"rb\")\n",
        "melody_list = pickle.load(file)\n",
        "\n",
        "print(melody_list)"
      ],
      "metadata": {
        "colab": {
          "base_uri": "https://localhost:8080/"
        },
        "id": "hWB-VX4dAQum",
        "outputId": "8ad9e094-be09-4bac-f8b8-8fc7ce7e8c4c"
      },
      "execution_count": null,
      "outputs": [
        {
          "output_type": "stream",
          "name": "stdout",
          "text": [
            "['A4', 'B4', 'A4', 'B4', 'C5', 'C5', 'B4', 'C5', 'B4', 'C5']\n"
          ]
        }
      ]
    },
    {
      "cell_type": "markdown",
      "source": [
        "### Part 2: analyzing statistics of generated melodies\n"
      ],
      "metadata": {
        "id": "8X40Lf4dOUpD"
      }
    },
    {
      "cell_type": "code",
      "source": [
        "#analyze the frequency of occurrence for each note, etc"
      ],
      "metadata": {
        "id": "b6X9VCEDx5wX"
      },
      "execution_count": null,
      "outputs": []
    },
    {
      "cell_type": "markdown",
      "source": [
        "### Part 3: generating test melodies"
      ],
      "metadata": {
        "id": "NUlkfEgWf7E4"
      }
    },
    {
      "cell_type": "code",
      "source": [
        "#this part should be the same as before (so actually this cell is unnecessary right now)\n",
        "#will be changing the volume of high-IC notes during conversion to MIDI\n",
        "\n",
        "melody_list = []\n",
        "\n",
        "while len(melody_list)<10:\n",
        "  #define the starting state\n",
        "  results = []\n",
        "  results.append(np.random.choice(matrix.index))\n",
        "\n",
        "  #appending new notes to the starting state until max number of notes reached\n",
        "  while len(results)<10:\n",
        "    new_state = np.random.choice(matrix.index, p = matrix.loc[results[-1]])\n",
        "    results.append(new_state)\n",
        "  \n",
        "  melody_list.append(results)\n",
        "  file_name = \"melody\"+str(len(melody_list))+\".pkl\"\n",
        "  open_file =open(file_name, \"wb\")\n",
        "  pickle.dump(results, open_file)\n",
        "  open_file.close()\n",
        "\n",
        "melody_list = np.array(melody_list)\n",
        "#melody_list\n",
        "\n",
        "print(melody_list.shape)\n",
        "\n",
        "file_name = \"melody_list.pkl\"\n",
        "open_file =open(file_name, \"wb\")\n",
        "pickle.dump(results, open_file)\n",
        "open_file.close()\n",
        "\n",
        "print(melody_list)\n",
        "\n"
      ],
      "metadata": {
        "outputId": "73b43522-a1a5-484c-db7e-346f2444e822",
        "colab": {
          "base_uri": "https://localhost:8080/",
          "height": 235
        },
        "id": "GUxzPcABhHUa"
      },
      "execution_count": null,
      "outputs": [
        {
          "output_type": "error",
          "ename": "NameError",
          "evalue": "ignored",
          "traceback": [
            "\u001b[0;31m---------------------------------------------------------------------------\u001b[0m",
            "\u001b[0;31mNameError\u001b[0m                                 Traceback (most recent call last)",
            "\u001b[0;32m<ipython-input-3-05c5a9ae1388>\u001b[0m in \u001b[0;36m<module>\u001b[0;34m\u001b[0m\n\u001b[1;32m      7\u001b[0m   \u001b[0;31m#define the starting state\u001b[0m\u001b[0;34m\u001b[0m\u001b[0;34m\u001b[0m\u001b[0;34m\u001b[0m\u001b[0m\n\u001b[1;32m      8\u001b[0m   \u001b[0mresults\u001b[0m \u001b[0;34m=\u001b[0m \u001b[0;34m[\u001b[0m\u001b[0;34m]\u001b[0m\u001b[0;34m\u001b[0m\u001b[0;34m\u001b[0m\u001b[0m\n\u001b[0;32m----> 9\u001b[0;31m   \u001b[0mresults\u001b[0m\u001b[0;34m.\u001b[0m\u001b[0mappend\u001b[0m\u001b[0;34m(\u001b[0m\u001b[0mnp\u001b[0m\u001b[0;34m.\u001b[0m\u001b[0mrandom\u001b[0m\u001b[0;34m.\u001b[0m\u001b[0mchoice\u001b[0m\u001b[0;34m(\u001b[0m\u001b[0mmatrix\u001b[0m\u001b[0;34m.\u001b[0m\u001b[0mindex\u001b[0m\u001b[0;34m)\u001b[0m\u001b[0;34m)\u001b[0m\u001b[0;34m\u001b[0m\u001b[0;34m\u001b[0m\u001b[0m\n\u001b[0m\u001b[1;32m     10\u001b[0m \u001b[0;34m\u001b[0m\u001b[0m\n\u001b[1;32m     11\u001b[0m   \u001b[0;31m#appending new notes to the starting state until max number of notes reached\u001b[0m\u001b[0;34m\u001b[0m\u001b[0;34m\u001b[0m\u001b[0;34m\u001b[0m\u001b[0m\n",
            "\u001b[0;31mNameError\u001b[0m: name 'matrix' is not defined"
          ]
        }
      ]
    }
  ]
}